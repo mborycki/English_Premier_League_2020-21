{
 "cells": [
  {
   "cell_type": "markdown",
   "metadata": {},
   "source": [
    "# English Premier League(2020-21)\n",
    "**Statistics of EPL 2020-21 season Players**<br><br>\n",
    "\n",
    "Dataset Author: Rajat Chaudhari<br>\n",
    "Dataset Source: https://www.kaggle.com/rajatrc1705/english-premier-league202021<br><br>\n",
    "\n",
    "### Context:\n",
    "This dataset is a collection of basic but crucial stats of the English Premier League 2020-21 season. The dataset has all the players that played in the EPL and their standard stats such as Goals, Assists, xG, xA, Passes Attempted, Pass Accuracy and more! Do upvote if you like it!\n",
    "\n",
    "### Content:\n",
    "**Position:**\tEach player has a certain position, in which he plays regularly. The position in this dataset are, FW - Forward, MF - Midfield, DF - Defensive, GK - Goalkeeper<br>\n",
    "**Starts:**\tThe number of times the player was named in the starting 11 by the manager.<br>\n",
    "**Mins:**\tThe number of minutes played by the player.<br>\n",
    "**Goals:**\tThe number of Goals scored by the player.<br>\n",
    "**Assists:**\tThe number of times the player has assisted other player in scoring the goal.<br>\n",
    "**Passes_Attempted:**\tThe number of passes attempted by the player.<br>\n",
    "**PercPassesCompleted:**\tThe number of passes that the player accurately passed to his teammate.<br>\n",
    "**xG:**\tExpected number of goals from the player in a match.<br>\n",
    "**xA:**\tExpected number of assists from the player in a match.<br>\n",
    "**Yellow_Cards:**\tThe players get a yellow card from the referee for indiscipline, technical fouls, or other minor fouls.<br>\n",
    "**Red Cards:**\tThe players get a red card for accumulating 2 yellow cards in a single game, or for a major foul.<br>\n",
    "\n",
    "### Objectives:\n",
    "\n",
    "1. Find out which team has the most aggressive players: red + yellow cards\n",
    "1. Which nation had the most aggressive players?\n",
    "1. Which team had more players in the top 10 most assists\n",
    "1. Who were the players with most attempted passes\n",
    "1. Which players had the most accurate passes: all players and players by position\n",
    "1. Top 10 goal scorers: all players and players by position \n",
    "1. Top 10 assists: all players and players by position \n",
    "1. Top 10 Players due to Ages\n",
    "1. Show all teams with average age\n",
    "1. Nationalities of the League\n",
    "1. Correlation Graph\n",
    "\n",
    "atasaygin points (https://www.kaggle.com/atasaygin/premier-league-player-analysis)\n"
   ]
  },
  {
   "cell_type": "code",
   "execution_count": null,
   "metadata": {},
   "outputs": [],
   "source": [
    "import pandas as pd"
   ]
  },
  {
   "cell_type": "code",
   "execution_count": null,
   "metadata": {},
   "outputs": [],
   "source": [
    "import matplotlib.pyplot as plt\n",
    "# import squarify # pip install squarify"
   ]
  },
  {
   "cell_type": "code",
   "execution_count": null,
   "metadata": {},
   "outputs": [],
   "source": [
    "df = pd.read_csv('archive.zip')\n",
    "df.head()"
   ]
  },
  {
   "cell_type": "code",
   "execution_count": null,
   "metadata": {},
   "outputs": [],
   "source": [
    "df.info()"
   ]
  },
  {
   "cell_type": "markdown",
   "metadata": {},
   "source": [
    "We have 18 columns and 532 records without null values"
   ]
  },
  {
   "cell_type": "markdown",
   "metadata": {},
   "source": [
    "### Find out which team has the most aggressive players.\n",
    "Red and yellow cards"
   ]
  },
  {
   "cell_type": "code",
   "execution_count": null,
   "metadata": {},
   "outputs": [],
   "source": [
    "df.columns"
   ]
  },
  {
   "cell_type": "code",
   "execution_count": null,
   "metadata": {},
   "outputs": [],
   "source": [
    "df_1 = df[['Club','Yellow_Cards','Red_Cards']].groupby('Club').sum().sort_values(by=['Red_Cards','Yellow_Cards'],ascending=False)"
   ]
  },
  {
   "cell_type": "code",
   "execution_count": null,
   "metadata": {},
   "outputs": [],
   "source": [
    "df_1.head()"
   ]
  },
  {
   "cell_type": "code",
   "execution_count": null,
   "metadata": {},
   "outputs": [],
   "source": [
    "countries = df_1.index.tolist()\n",
    "red_cards = df_1['Red_Cards'].tolist()\n",
    "yellow_cards = df_1['Yellow_Cards'].tolist()\n",
    "width = 0.75\n",
    "\n",
    "fig, ax = plt.subplots(figsize=(16, 8))\n",
    "\n",
    "ax.bar(countries, yellow_cards, width, label='Yellow Cards', color='yellow')\n",
    "ax.bar(countries, red_cards, width, bottom=yellow_cards, label='Red Cards', color='red')\n",
    "\n",
    "ax.set_ylabel('Amount of Cards')\n",
    "ax.set_title('Number of Yellow and Read Cards in Premier League (2020/21)')\n",
    "plt.xticks(countries, rotation=45)\n",
    "\n",
    "for index, data in enumerate(red_cards):\n",
    "    plt.text(x=index , y=data + yellow_cards[index] + 1 , s=f\"{data}\" , fontdict=dict(fontsize=14), horizontalalignment='center')\n",
    "\n",
    "for index, data in enumerate(yellow_cards):\n",
    "    plt.text(x=index , y=20 , s=f\"{data}\" , fontdict=dict(fontsize=14), horizontalalignment='center')\n",
    "    \n",
    "ax.legend()\n",
    "\n",
    "plt.tight_layout()\n",
    "plt.show()"
   ]
  },
  {
   "cell_type": "markdown",
   "metadata": {},
   "source": [
    "I have sorted the chart descending for red cards. Brighton had the biggest amount of red cards in Premier League. However, Sheffield United had the biggest amount of yellow cards and 4 red card what gave the highest total number of cards. "
   ]
  },
  {
   "cell_type": "markdown",
   "metadata": {},
   "source": [
    "---\n",
    "All red cards by player:"
   ]
  },
  {
   "cell_type": "code",
   "execution_count": null,
   "metadata": {},
   "outputs": [],
   "source": [
    "df.loc[df.Red_Cards>0,['Name','Club','Yellow_Cards','Red_Cards']].groupby(['Name','Club']).sum().reset_index().sort_values(by=['Red_Cards','Yellow_Cards'],ascending=False)"
   ]
  },
  {
   "cell_type": "markdown",
   "metadata": {},
   "source": [
    "Player names and club they played with cards they got"
   ]
  },
  {
   "cell_type": "code",
   "execution_count": null,
   "metadata": {},
   "outputs": [],
   "source": [
    "cards_per_min = df[['Name','Club','Yellow_Cards','Red_Cards','Mins']].groupby(['Name','Club']).sum().reset_index().sort_values(by=['Red_Cards','Yellow_Cards'],ascending=False)\n",
    "cards_per_min['Total_Cards'] = cards_per_min.Yellow_Cards + cards_per_min.Red_Cards\n",
    "cards_per_min['Mins_Card'] = round(cards_per_min.Mins / cards_per_min.Total_Cards)\n",
    "cards_per_min.head(15).sort_values(by='Mins_Card',ascending=True)"
   ]
  },
  {
   "cell_type": "markdown",
   "metadata": {},
   "source": [
    "Lamela got a card in every 102 minute"
   ]
  },
  {
   "cell_type": "code",
   "execution_count": null,
   "metadata": {},
   "outputs": [],
   "source": [
    "df_2 = df[['Nationality','Yellow_Cards','Red_Cards']].groupby('Nationality').sum().sort_values(by=['Red_Cards','Yellow_Cards'],ascending=False).head(15)\n",
    "df_2"
   ]
  },
  {
   "cell_type": "code",
   "execution_count": null,
   "metadata": {},
   "outputs": [],
   "source": [
    "countries = df_2.index.tolist()\n",
    "red_cards = df_2['Red_Cards'].tolist()\n",
    "yellow_cards = df_2['Yellow_Cards'].tolist()\n",
    "width = 0.75\n",
    "\n",
    "fig, ax = plt.subplots(figsize=(16, 8))\n",
    "\n",
    "ax.bar(countries, yellow_cards, width, label='Yellow Cards', color='yellow')\n",
    "ax.bar(countries, red_cards, width, bottom=yellow_cards, label='Red Cards', color='red')\n",
    "\n",
    "ax.set_ylabel('Amount of Cards')\n",
    "ax.set_title('Number of Yellow and Read Cards in Premier League (2020/21)')\n",
    "plt.xticks(countries, rotation=0)\n",
    "\n",
    "ax.legend()\n",
    "\n",
    "plt.tight_layout()\n",
    "plt.show()"
   ]
  },
  {
   "cell_type": "markdown",
   "metadata": {},
   "source": [
    "As we can see above majority of cards come from English players. But lets check how many players do we have per each nationality and then check the result taking the number into consideration"
   ]
  },
  {
   "cell_type": "code",
   "execution_count": null,
   "metadata": {
    "scrolled": false
   },
   "outputs": [],
   "source": [
    "cards_per_nation = df[['Name','Nationality','Yellow_Cards','Red_Cards']].groupby('Nationality').agg({'Yellow_Cards':'sum','Red_Cards':'sum','Name':'count'})\n",
    "cards_per_nation['Total_Cards'] = cards_per_nation.Yellow_Cards + cards_per_nation.Red_Cards\n",
    "cards_per_nation.rename(columns={'Name':'#_Players'},inplace=True)\n",
    "cards_per_nation['Cards_per_Player'] = cards_per_nation['Total_Cards'] / cards_per_nation['#_Players']\n",
    "cards_per_nation = cards_per_nation.sort_values(by=['Cards_per_Player','#_Players'],ascending=False).reset_index().head(25)"
   ]
  },
  {
   "cell_type": "code",
   "execution_count": null,
   "metadata": {},
   "outputs": [],
   "source": [
    "countries = cards_per_nation['Nationality']\n",
    "cards = cards_per_nation['Cards_per_Player']\n",
    " \n",
    "fig, ax = plt.subplots(figsize =(16, 9))\n",
    "ax.barh(countries, cards)\n",
    " \n",
    "# Remove axes splines\n",
    "for s in ['top', 'bottom', 'left', 'right']:\n",
    "    ax.spines[s].set_visible(False)\n",
    "    \n",
    "# Remove x, y Ticks\n",
    "ax.xaxis.set_ticks_position('none')\n",
    "ax.yaxis.set_ticks_position('none')\n",
    "\n",
    "# Add padding between axes and labels\n",
    "ax.xaxis.set_tick_params(pad = 5)\n",
    "ax.yaxis.set_tick_params(pad = 10)\n",
    " \n",
    "# Add x, y gridlines\n",
    "ax.grid(b = True, color ='grey',\n",
    "        linestyle ='-.', linewidth = 0.5,\n",
    "        alpha = 0.2)\n",
    " \n",
    "# Show top values\n",
    "ax.invert_yaxis()\n",
    " \n",
    "# Add annotation to bars\n",
    "for i in ax.patches:\n",
    "    plt.text(i.get_width()+0.2, i.get_y()+0.5,\n",
    "             str(round((i.get_width()), 2)),\n",
    "             fontsize = 10, fontweight ='bold',\n",
    "             color ='grey')\n",
    "\n",
    "# Add Plot Title\n",
    "ax.set_title('Number of cards (yellow + red) per 1 player within nationality',\n",
    "             loc ='left', )\n",
    " \n",
    "# Add Text watermark\n",
    "fig.text(0.9, 0.15, 'mariuszborycki.com', fontsize = 12,\n",
    "         color ='grey', ha ='right', va ='bottom',\n",
    "         alpha = 0.7)\n",
    " \n",
    "# Show Plot\n",
    "plt.show()"
   ]
  },
  {
   "cell_type": "code",
   "execution_count": null,
   "metadata": {},
   "outputs": [],
   "source": [
    "df[df.Nationality=='MLI']"
   ]
  },
  {
   "cell_type": "code",
   "execution_count": null,
   "metadata": {},
   "outputs": [],
   "source": [
    "df[df.Nationality=='MKD']"
   ]
  },
  {
   "cell_type": "markdown",
   "metadata": {},
   "source": [
    "Now we can see that English players are on 25th place. On the first place we have footballers from Mali and from North Macedonia. In case of Mali we have 2 players Moussa Djenepo from Southampton and Yves Bissouma from Brighton and the got together 14 cards like 1 footballer from North Macedonia Ezgjan Alioski\twho also got 14 cards but he did it by self."
   ]
  },
  {
   "cell_type": "markdown",
   "metadata": {},
   "source": [
    "---"
   ]
  },
  {
   "cell_type": "code",
   "execution_count": null,
   "metadata": {},
   "outputs": [],
   "source": [
    "df.Position.unique()"
   ]
  },
  {
   "cell_type": "code",
   "execution_count": null,
   "metadata": {},
   "outputs": [],
   "source": [
    "# Assumption: first position is valid\n",
    "old_pos = ['MF,FW', 'GK', 'FW', 'DF', 'MF', 'FW,MF', 'FW,DF', 'DF,MF', 'MF,DF', 'DF,FW']\n",
    "new_pos = ['Midfielder', 'Goalkeeper', 'Forward', 'Defender', 'Midfielder', 'Forward', 'Forward', 'Defender', 'Midfielder', 'Defender']\n",
    "\n",
    "for pos1, pos2 in zip(old_pos,new_pos):\n",
    "    df.Position.replace(pos1, pos2, inplace=True)"
   ]
  },
  {
   "cell_type": "code",
   "execution_count": null,
   "metadata": {
    "scrolled": true
   },
   "outputs": [],
   "source": [
    "cards_per_position = df[['Name','Position','Yellow_Cards','Red_Cards']].groupby('Position').agg({'Yellow_Cards':'sum','Red_Cards':'sum','Name':'count'}).reset_index()\n",
    "cards_per_position['Total_Cards'] = cards_per_position.Yellow_Cards + cards_per_position.Red_Cards\n",
    "cards_per_position.rename(columns={'Name':'#_Players'},inplace=True)\n",
    "cards_per_position['Cards_per_Position'] = cards_per_position['Total_Cards'] / cards_per_position['#_Players']\n",
    "cards_per_position = cards_per_position.reset_index(drop=True).sort_values(by=['Cards_per_Position','#_Players'],ascending=False)\n",
    "cards_per_position"
   ]
  },
  {
   "cell_type": "code",
   "execution_count": null,
   "metadata": {},
   "outputs": [],
   "source": [
    "positions = cards_per_position['Position']\n",
    "cards = cards_per_position['Cards_per_Position']\n",
    " \n",
    "fig, ax = plt.subplots(figsize =(16, 9))\n",
    "ax.barh(positions, cards)\n",
    "\n",
    "# Add annotation to bars\n",
    "for i in ax.patches:\n",
    "    plt.text(i.get_width(), i.get_y()+0.4,\n",
    "             str(round((i.get_width()), 2)),\n",
    "             fontsize = 10, fontweight ='bold',\n",
    "             color ='grey')\n",
    "\n",
    "# Add Plot Title\n",
    "ax.set_title('Number of cards (yellow + red) per 1 player within position',\n",
    "             loc ='left', )\n",
    " \n",
    "# Add Text watermark\n",
    "fig.text(0.9, 0.10, 'mariuszborycki.com', fontsize = 12,\n",
    "         color ='grey', ha ='right', va ='bottom',\n",
    "         alpha = 0.7)\n",
    "\n",
    "plt.show()"
   ]
  },
  {
   "cell_type": "markdown",
   "metadata": {},
   "source": [
    "What might be interesting, midfielders have more cards per player than defenders. "
   ]
  },
  {
   "cell_type": "markdown",
   "metadata": {},
   "source": [
    "---"
   ]
  },
  {
   "cell_type": "markdown",
   "metadata": {},
   "source": [
    "Below there are goals analysis (without own goals)"
   ]
  },
  {
   "cell_type": "code",
   "execution_count": null,
   "metadata": {},
   "outputs": [],
   "source": [
    "df.columns"
   ]
  },
  {
   "cell_type": "code",
   "execution_count": null,
   "metadata": {
    "scrolled": true
   },
   "outputs": [],
   "source": [
    "df[['Club','Goals','Penalty_Goals','Assists']].groupby('Club').sum().reset_index().sort_values(by=['Assists'],ascending=False)"
   ]
  },
  {
   "cell_type": "markdown",
   "metadata": {},
   "source": [
    "**Which team had more players in the top 10 most assists**"
   ]
  },
  {
   "cell_type": "code",
   "execution_count": null,
   "metadata": {},
   "outputs": [],
   "source": [
    "df[['Name','Club','Assists']].groupby(['Name','Club']).sum().reset_index().sort_values(by=['Assists'],ascending=False).head(10)"
   ]
  },
  {
   "cell_type": "code",
   "execution_count": null,
   "metadata": {},
   "outputs": [],
   "source": [
    "df[['Name','Club','Assists']].groupby(['Name','Club']).sum().reset_index().sort_values(by=['Assists'],ascending=False).head(10).groupby('Club')['Name'].count().sort_values(ascending=False)"
   ]
  },
  {
   "cell_type": "markdown",
   "metadata": {},
   "source": [
    "Who were the players with most attempted passes"
   ]
  },
  {
   "cell_type": "code",
   "execution_count": null,
   "metadata": {},
   "outputs": [],
   "source": [
    "df.columns"
   ]
  },
  {
   "cell_type": "code",
   "execution_count": null,
   "metadata": {},
   "outputs": [],
   "source": [
    "df[['Name','Club','Passes_Attempted']].groupby(['Name','Club']).sum().reset_index().sort_values(by=['Passes_Attempted'],ascending=False).head(10)"
   ]
  },
  {
   "cell_type": "markdown",
   "metadata": {},
   "source": [
    "Which players had the most accurate passes"
   ]
  },
  {
   "cell_type": "code",
   "execution_count": null,
   "metadata": {},
   "outputs": [],
   "source": [
    "df[['Name','Club','Perc_Passes_Completed']].groupby(['Name','Club']).sum().reset_index().sort_values(by=['Perc_Passes_Completed'],ascending=False).head(10)"
   ]
  },
  {
   "cell_type": "code",
   "execution_count": null,
   "metadata": {},
   "outputs": [],
   "source": [
    "df[['Name','Club','Passes_Attempted','Perc_Passes_Completed']].groupby(['Name','Club']).sum().reset_index().sort_values(by=['Perc_Passes_Completed'],ascending=False).head(10)"
   ]
  },
  {
   "cell_type": "code",
   "execution_count": null,
   "metadata": {},
   "outputs": [],
   "source": [
    "df.loc[df.Passes_Attempted>1000,['Name','Club','Passes_Attempted','Perc_Passes_Completed']].groupby(['Name','Club']).sum().reset_index().sort_values(by=['Perc_Passes_Completed'],ascending=False).head(10)"
   ]
  },
  {
   "cell_type": "markdown",
   "metadata": {},
   "source": [
    "**Top 10 goal scorers: all players and players by position**"
   ]
  },
  {
   "cell_type": "code",
   "execution_count": null,
   "metadata": {},
   "outputs": [],
   "source": [
    "df[['Name','Club','Position','Goals']].groupby(['Name','Club','Position']).sum().reset_index().sort_values(by=['Goals'],ascending=False).head(10)"
   ]
  },
  {
   "cell_type": "code",
   "execution_count": null,
   "metadata": {},
   "outputs": [],
   "source": [
    "#Num Goals scored for Players that played more than 10 games\n",
    "df2 = df[df['Matches']>10].sort_values('Goals',ascending=False)[['Name','xG','Goals','Club','Position']].head(10)\n",
    "print(df2)\n",
    "fig = px.bar(df2, x='Name', y='Goals',hover_data=['Club'],color='Position') #\n",
    "# category_orders=dict(group=d)\n",
    "fig.update_layout(\n",
    "    title={\n",
    "        'text': \"Top 10 Goalscorers\",\n",
    "        'y':0.95,\n",
    "        'x':0.5,\n",
    "        'xanchor': 'center',\n",
    "        'yanchor': 'top'},\n",
    "    font_family=\"Calibri\",\n",
    "    title_font_family=\"Times New Roman\",\n",
    "    title_font_color=\"black\",\n",
    "    legend_title_font_color=\"red\",\n",
    "    xaxis_categoryorder = 'total descending'\n",
    ")\n",
    "fig.update_layout(yaxis_categoryorder = 'total ascending')\n",
    "fig.show()"
   ]
  },
  {
   "cell_type": "code",
   "execution_count": null,
   "metadata": {},
   "outputs": [],
   "source": [
    "df[['Position','Goals']].groupby(['Position']).sum().reset_index().sort_values(by=['Goals'],ascending=False).head(10)"
   ]
  },
  {
   "cell_type": "markdown",
   "metadata": {},
   "source": [
    "**Top 10 assists: all players and players by position**"
   ]
  },
  {
   "cell_type": "code",
   "execution_count": null,
   "metadata": {},
   "outputs": [],
   "source": [
    "df[['Name','Club','Position','Assists']].groupby(['Name','Club','Position']).sum().reset_index().sort_values(by=['Assists'],ascending=False).head(10)"
   ]
  },
  {
   "cell_type": "code",
   "execution_count": null,
   "metadata": {},
   "outputs": [],
   "source": [
    "df[['Position','Assists']].groupby(['Position']).sum().reset_index().sort_values(by=['Assists'],ascending=False).head(10)"
   ]
  },
  {
   "cell_type": "markdown",
   "metadata": {},
   "source": [
    "canadian points"
   ]
  },
  {
   "cell_type": "code",
   "execution_count": null,
   "metadata": {},
   "outputs": [],
   "source": [
    "df_canadian = df[['Name', 'Club', 'Position','Goals', 'Assists']].copy()\n",
    "df_canadian['Cacadian_Points'] = df_canadian.Goals + df_canadian.Assists\n",
    "df_canadian[['Name','Club','Cacadian_Points','Goals', 'Assists']].groupby(['Name','Club']).sum().reset_index().sort_values(by=['Cacadian_Points'],ascending=False).head(10)"
   ]
  },
  {
   "cell_type": "markdown",
   "metadata": {},
   "source": [
    "**Top 10 Players due to Ages**"
   ]
  },
  {
   "cell_type": "code",
   "execution_count": null,
   "metadata": {},
   "outputs": [],
   "source": [
    "df[['Name','Club','Position','Age']].sort_values(by=['Age'],ascending=False).head(10)"
   ]
  },
  {
   "cell_type": "code",
   "execution_count": null,
   "metadata": {},
   "outputs": [],
   "source": [
    "df[['Position','Age']].groupby(['Position']).mean().round(0).reset_index().sort_values(by=['Age'],ascending=False).head(10)"
   ]
  },
  {
   "cell_type": "markdown",
   "metadata": {},
   "source": [
    "**Show all teams with average age**"
   ]
  },
  {
   "cell_type": "code",
   "execution_count": null,
   "metadata": {},
   "outputs": [],
   "source": [
    "df[['Club','Age']].groupby('Club').mean().round(1).reset_index().sort_values(by=['Age'],ascending=False)"
   ]
  },
  {
   "cell_type": "code",
   "execution_count": null,
   "metadata": {},
   "outputs": [],
   "source": [
    "plt.figure(figsize=(18,8))\n",
    "sns.boxplot(x='Club',y='Age',data=df)\n",
    "plt.xticks(rotation=90)"
   ]
  },
  {
   "cell_type": "code",
   "execution_count": null,
   "metadata": {},
   "outputs": [],
   "source": []
  },
  {
   "cell_type": "markdown",
   "metadata": {},
   "source": [
    "**Nationalities of the League**"
   ]
  },
  {
   "cell_type": "markdown",
   "metadata": {},
   "source": [
    "**Correlation Graph**"
   ]
  },
  {
   "cell_type": "code",
   "execution_count": null,
   "metadata": {},
   "outputs": [],
   "source": [
    "import seaborn as sns"
   ]
  },
  {
   "cell_type": "code",
   "execution_count": null,
   "metadata": {},
   "outputs": [],
   "source": [
    "plt.figure(figsize=(15, 8))\n",
    "\n",
    "correlation = sns.heatmap(df.corr(), vmin=-1, vmax=1, annot=True, linewidths=1, linecolor='black', cmap='YlGnBu') #,cmap='Pastel1'\n",
    "sns.color_palette(\"flare\", as_cmap=True)\n",
    "correlation.set_title('Correlation Graph of the Dataset', fontdict={'fontsize': 24})"
   ]
  },
  {
   "cell_type": "code",
   "execution_count": null,
   "metadata": {},
   "outputs": [],
   "source": []
  },
  {
   "cell_type": "code",
   "execution_count": null,
   "metadata": {},
   "outputs": [],
   "source": []
  },
  {
   "cell_type": "code",
   "execution_count": null,
   "metadata": {},
   "outputs": [],
   "source": []
  }
 ],
 "metadata": {
  "kernelspec": {
   "display_name": "Python 3",
   "language": "python",
   "name": "python3"
  },
  "language_info": {
   "codemirror_mode": {
    "name": "ipython",
    "version": 3
   },
   "file_extension": ".py",
   "mimetype": "text/x-python",
   "name": "python",
   "nbconvert_exporter": "python",
   "pygments_lexer": "ipython3",
   "version": "3.8.5"
  }
 },
 "nbformat": 4,
 "nbformat_minor": 4
}
